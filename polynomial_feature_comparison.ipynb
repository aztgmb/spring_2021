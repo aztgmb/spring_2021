{
 "cells": [
  {
   "cell_type": "markdown",
   "metadata": {
    "deletable": true,
    "editable": true
   },
   "source": [
    "# Exploring featurization\n",
    "\n",
    "- First example (abalone) quadratic features don't improve performance.\n",
    "    - Ask people to theorize why.\n",
    "    - If the conditional expectation function is truly linear, then extra features won't help.\n",
    "    - Show joint density plots to give some hand-waving evidence.\n",
    "- Second example we do get a performance bump. Note the sample size is small so it's not particularly robust."
   ]
  },
  {
   "cell_type": "code",
   "execution_count": 24,
   "metadata": {},
   "outputs": [],
   "source": [
    "import warnings\n",
    "warnings.filterwarnings(\"ignore\")"
   ]
  },
  {
   "cell_type": "code",
   "execution_count": 13,
   "metadata": {
    "collapsed": false,
    "deletable": true,
    "editable": true
   },
   "outputs": [],
   "source": [
    "import pandas as pd\n",
    "import numpy as np\n",
    "\n",
    "from sklearn.base import TransformerMixin\n",
    "from sklearn.preprocessing import OneHotEncoder,LabelEncoder\n",
    "from sklearn_pandas import DataFrameMapper\n",
    "from sklearn.pipeline import Pipeline\n",
    "from sklearn.linear_model import ElasticNetCV\n",
    "from sklearn.model_selection import train_test_split\n",
    "from sklearn.preprocessing import PolynomialFeatures\n",
    "\n",
    "import seaborn as sns\n",
    "import matplotlib.pyplot as plt\n",
    "%matplotlib inline"
   ]
  },
  {
   "cell_type": "markdown",
   "metadata": {},
   "source": [
    "# Abalone example"
   ]
  },
  {
   "cell_type": "code",
   "execution_count": 30,
   "metadata": {
    "collapsed": true,
    "deletable": true,
    "editable": true
   },
   "outputs": [],
   "source": [
    "df = pd.read_csv('http://archive.ics.uci.edu/ml/machine-learning-databases/' +\n",
    "                 'abalone/abalone.data',\n",
    "                 header=None)\n",
    "\n",
    "df = df.rename(columns={\n",
    "    0:'sex', 1:'length', 2:'diameter', 3:'height',\n",
    "    4:'whole_weight', 5:'shucked_weight', 6:'viscera_weight',\n",
    "    7:'shell_weight', 8:'rings'\n",
    "})\n",
    "\n",
    "categorical = ['sex']\n",
    "\n",
    "numeric = ['length', 'diameter', 'height',\n",
    "        'whole_weight', 'shucked_weight',\n",
    "        'shell_weight']\n",
    "\n",
    "train_X, test_X, train_y, test_y = train_test_split(df.drop('rings', axis=1),\n",
    "                                                    df['rings'],\n",
    "                                                    random_state=42)"
   ]
  },
  {
   "cell_type": "code",
   "execution_count": 31,
   "metadata": {
    "collapsed": true,
    "deletable": true,
    "editable": true
   },
   "outputs": [],
   "source": [
    "class OneHotStrings(TransformerMixin):\n",
    "    \n",
    "    def __init__(self):    \n",
    "        self.labeler = LabelEncoder()\n",
    "        self.enc = OneHotEncoder()\n",
    "        \n",
    "    def fit(self,X):\n",
    "        self.labeler.fit(X)\n",
    "        _X = self.labeler.transform(X).reshape(-1,1)\n",
    "        self.enc.fit(_X)\n",
    "        return X\n",
    "    \n",
    "    def transform(self,X):\n",
    "        _X = self.labeler.transform(X).reshape(-1,1)\n",
    "        return self.enc.transform(_X)"
   ]
  },
  {
   "cell_type": "code",
   "execution_count": 32,
   "metadata": {
    "collapsed": false,
    "deletable": true,
    "editable": true
   },
   "outputs": [
    {
     "name": "stdout",
     "output_type": "stream",
     "text": [
      "Train score:  0.528393673016\n",
      "Test score:  0.534127249172\n"
     ]
    }
   ],
   "source": [
    "mapper = DataFrameMapper(\n",
    "    [(col, None) for col in numeric] + \\\n",
    "    [(col, OneHotStrings()) for col in categorical])\n",
    "\n",
    "pipe = Pipeline([\n",
    "    ('mapper',mapper),\n",
    "    ('clf', ElasticNetCV(cv=10,\n",
    "                         l1_ratio=[.1, .5, .7, .9, .95, .99, 1],\n",
    "                         normalize=True))\n",
    "])\n",
    "\n",
    "pipe.fit(train_X, train_y)\n",
    "\n",
    "print('Train score: ',pipe.score(train_X, train_y))\n",
    "print('Test score: ',pipe.score(test_X, test_y))"
   ]
  },
  {
   "cell_type": "code",
   "execution_count": 33,
   "metadata": {
    "collapsed": false,
    "deletable": true,
    "editable": true
   },
   "outputs": [
    {
     "name": "stdout",
     "output_type": "stream",
     "text": [
      "Train score:  0.559442492704\n",
      "Test score:  0.554318625419\n"
     ]
    }
   ],
   "source": [
    "poly_mapper = DataFrameMapper(\n",
    "    [(numeric, PolynomialFeatures(degree=2))] + \\\n",
    "    [(col, OneHotStrings()) for col in categorical])\n",
    "\n",
    "pipe_poly = Pipeline([\n",
    "    ('mapper',poly_mapper),\n",
    "    ('clf', ElasticNetCV(cv=10,\n",
    "                         l1_ratio=[.1, .5, .7, .9, .95, .99, 1],\n",
    "                         normalize=True))\n",
    "])\n",
    "\n",
    "pipe_poly.fit(train_X, train_y)\n",
    "\n",
    "print('Train score: ',pipe_poly.score(train_X, train_y))\n",
    "print('Test score: ',pipe_poly.score(test_X, test_y))"
   ]
  },
  {
   "cell_type": "code",
   "execution_count": 40,
   "metadata": {
    "collapsed": false,
    "deletable": true,
    "editable": true
   },
   "outputs": [
    {
     "data": {
      "image/png": "[encoded data removed]",
      "text/plain": [
       "<matplotlib.figure.Figure at 0x1a223a8630>"
      ]
     },
     "metadata": {},
     "output_type": "display_data"
    }
   ],
   "source": [
    "sns.jointplot(train_X['length'], train_y)\n",
    "plt.savefig('figures/abalone_linear.png')"
   ]
  },
  {
   "cell_type": "markdown",
   "metadata": {
    "deletable": true,
    "editable": true
   },
   "source": [
    "# Boston example\n",
    "Boston housing get boost using poly features..."
   ]
  },
  {
   "cell_type": "code",
   "execution_count": 71,
   "metadata": {
    "collapsed": true,
    "deletable": true,
    "editable": true
   },
   "outputs": [],
   "source": [
    "from sklearn.datasets import load_boston"
   ]
  },
  {
   "cell_type": "code",
   "execution_count": 72,
   "metadata": {
    "collapsed": true,
    "deletable": true,
    "editable": true
   },
   "outputs": [],
   "source": [
    "data = load_boston()\n",
    "df = data.data\n",
    "cols = ['CRIM','ZN','INDUS','CHAS','NOX',\n",
    "        'RM','AGE','DIS','RAD','TAX',\n",
    "        'PTRATIO','B','LSTAT']\n",
    "df = pd.DataFrame(df, columns=cols)\n",
    "train_X, test_X, train_y, test_y = train_test_split(df, data.target,\n",
    "                                                    test_size=0.2,\n",
    "                                                    random_state = 2142018)"
   ]
  },
  {
   "cell_type": "code",
   "execution_count": 73,
   "metadata": {
    "collapsed": true,
    "deletable": true,
    "editable": true
   },
   "outputs": [],
   "source": [
    "categorical = ['CHAS','RAD']\n",
    "numeric = ['CRIM','ZN','INDUS','NOX','RM',\n",
    "        'AGE','DIS','TAX','PTRATIO','B',\n",
    "        'LSTAT']"
   ]
  },
  {
   "cell_type": "code",
   "execution_count": 87,
   "metadata": {
    "collapsed": false,
    "deletable": true,
    "editable": true
   },
   "outputs": [
    {
     "name": "stdout",
     "output_type": "stream",
     "text": [
      "Train score:  0.762945577283\n",
      "Test score:  0.645054949322\n"
     ]
    }
   ],
   "source": [
    "mapper = DataFrameMapper(\n",
    "    [(col, None) for col in numeric] + \\\n",
    "    [(col, OneHotStrings()) for col in categorical])\n",
    "\n",
    "pipe = Pipeline([\n",
    "    ('mapper',mapper),\n",
    "    ('clf', ElasticNetCV(cv=10,\n",
    "                         l1_ratio=[.5, .7, .9, .95, .99, 1],\n",
    "                         normalize=True))\n",
    "])\n",
    "\n",
    "pipe.fit(train_X, train_y)\n",
    "\n",
    "print('Train score: ',pipe.score(train_X, train_y))\n",
    "print('Test score: ',pipe.score(test_X, test_y))"
   ]
  },
  {
   "cell_type": "code",
   "execution_count": 91,
   "metadata": {
    "collapsed": true,
    "deletable": true,
    "editable": true
   },
   "outputs": [
    {
     "name": "stdout",
     "output_type": "stream",
     "text": [
      "Train score:  0.879364391327\n",
      "Test score:  0.816386882677\n"
     ]
    }
   ],
   "source": [
    "mapper2 = DataFrameMapper(\n",
    "    [(numeric, PolynomialFeatures(degree=2))] + \\\n",
    "    [(col, OneHotStrings()) for col in categorical])\n",
    "\n",
    "pipe2 = Pipeline([\n",
    "    ('mapper',mapper2),\n",
    "    ('clf', ElasticNetCV(cv=10,\n",
    "                         l1_ratio=[.1, .5, .7, .9, .95, .99, 1],\n",
    "                         normalize=True))\n",
    "])\n",
    "\n",
    "pipe2.fit(train_X, train_y)\n",
    "\n",
    "print('Train score: ',pipe2.score(train_X, train_y))\n",
    "print('Test score: ',pipe2.score(test_X, test_y))"
   ]
  }
 ],
 "metadata": {
  "anaconda-cloud": {},
  "kernelspec": {
   "display_name": "Python 3",
   "language": "python",
   "name": "python3"
  },
  "language_info": {
   "codemirror_mode": {
    "name": "ipython",
    "version": 3
   },
   "file_extension": ".py",
   "mimetype": "text/x-python",
   "name": "python",
   "nbconvert_exporter": "python",
   "pygments_lexer": "ipython3",
   "version": "3.5.4"
  }
 },
 "nbformat": 4,
 "nbformat_minor": 2
}
